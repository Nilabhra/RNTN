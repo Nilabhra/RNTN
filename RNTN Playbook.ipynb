{
 "cells": [
  {
   "cell_type": "code",
   "execution_count": 1,
   "metadata": {
    "collapsed": false
   },
   "outputs": [],
   "source": [
    "from rntn import RNTNModel"
   ]
  },
  {
   "cell_type": "code",
   "execution_count": 2,
   "metadata": {
    "collapsed": false
   },
   "outputs": [],
   "source": [
    "model = RNTNModel(vocab_file='resources/vocabulary.csv', wvec_dim=30, num_classes=5)"
   ]
  },
  {
   "cell_type": "code",
   "execution_count": 3,
   "metadata": {
    "collapsed": false
   },
   "outputs": [
    {
     "name": "stdout",
     "output_type": "stream",
     "text": [
      "Epoch 1 Accuracy: 0.663149146216\n",
      "Epoch 2 Accuracy: 0.686602347082\n",
      "Epoch 3 Accuracy: 0.691029511707\n",
      "Epoch 4 Accuracy: 0.692379824773\n",
      "Epoch 5 Accuracy: 0.697247965898\n",
      "Epoch 6 Accuracy: 0.699954085656\n",
      "Epoch 7 Accuracy: 0.702695916979\n",
      "Epoch 8 Accuracy: 0.705105189155\n",
      "Epoch 9 Accuracy: 0.707514627093\n",
      "Epoch 10 Accuracy: 0.711089332662\n"
     ]
    }
   ],
   "source": [
    "model.train(train_file='resources/trees/train.txt', step_size=0.01, lamda=0.001, epsilon=1e-8, num_epoch=10, batch_size=200)"
   ]
  },
  {
   "cell_type": "code",
   "execution_count": 4,
   "metadata": {
    "collapsed": false
   },
   "outputs": [],
   "source": [
    "model.save('save1.pkl')"
   ]
  },
  {
   "cell_type": "code",
   "execution_count": 5,
   "metadata": {
    "collapsed": true
   },
   "outputs": [],
   "source": [
    "model.load('save1.pkl')"
   ]
  },
  {
   "cell_type": "code",
   "execution_count": 6,
   "metadata": {
    "collapsed": false
   },
   "outputs": [
    {
     "name": "stdout",
     "output_type": "stream",
     "text": [
      "Accuracy: 0.702727677032\n"
     ]
    }
   ],
   "source": [
    "model.test(test_file='resources/trees/dev.txt')"
   ]
  },
  {
   "cell_type": "code",
   "execution_count": 7,
   "metadata": {
    "collapsed": false
   },
   "outputs": [
    {
     "name": "stdout",
     "output_type": "stream",
     "text": [
      "Accuracy: 0.702187409455\n"
     ]
    }
   ],
   "source": [
    "model.test(test_file='resources/trees/test.txt')"
   ]
  }
 ],
 "metadata": {
  "kernelspec": {
   "display_name": "Python 2",
   "language": "python",
   "name": "python2"
  },
  "language_info": {
   "codemirror_mode": {
    "name": "ipython",
    "version": 2
   },
   "file_extension": ".py",
   "mimetype": "text/x-python",
   "name": "python",
   "nbconvert_exporter": "python",
   "pygments_lexer": "ipython2",
   "version": "2.7.11"
  }
 },
 "nbformat": 4,
 "nbformat_minor": 0
}
